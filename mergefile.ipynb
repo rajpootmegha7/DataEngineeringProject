{
 "cells": [
  {
   "cell_type": "code",
   "execution_count": null,
   "metadata": {},
   "outputs": [],
   "source": [
    "from pyspark.sql import SparkSession\n",
    "\n",
    "try:\n",
    "    # Create a Spark session\n",
    "    spark = SparkSession.builder.appName(\"ParquetReader\").getOrCreate()\n",
    "\n",
    "    # Continue with the rest of your script...\n",
    "    # ...\n",
    "\n",
    "except Exception as e:\n",
    "    print(\"Error:\", str(e))\n",
    "    # Print additional diagnostic information\n",
    "    print(\"Check Spark installation, resource availability, port availability, and firewall settings.\")\n",
    "    # Print Spark configuration for additional insights\n",
    "    print(\"Spark Configuration:\")\n",
    "    print(spark.sparkContext.getConf().getAll())\n",
    "\n",
    "    # Stop the Spark session if it was partially created\n",
    "    spark.stop()\n"
   ]
  },
  {
   "cell_type": "code",
   "execution_count": null,
   "metadata": {},
   "outputs": [],
   "source": [
    "\n",
    "#Specify the paths to the Parquet files\n",
    "covid_data_path = \"data/covid_dataset.parquet\"\n",
    "hospital_data_path = \"data/hospital_data/hospital_data.parquet\"\n",
    "\n",
    "# Read the parquet file into the dataframes\n",
    "hospital_df = spark.read.parquet(hospital_data_path)\n",
    "\n",
    "hospital_df.show(10)\n",
    "#hospital_df.schema"
   ]
  },
  {
   "cell_type": "code",
   "execution_count": null,
   "metadata": {},
   "outputs": [],
   "source": [
    "\n",
    "covid_data_path = \"data/covid_dataset.parquet\"\n",
    "# Read the parquet file into the dataframes\n",
    "covid_df = spark.read.parquet(covid_data_path)\n",
    "\n",
    "covid_df.show(10)\n"
   ]
  },
  {
   "cell_type": "code",
   "execution_count": null,
   "metadata": {},
   "outputs": [],
   "source": [
    "from pyspark.sql import SparkSession\n",
    "from pyspark.sql import functions as F\n",
    "\n",
    "# Create a Spark session\n",
    "\n",
    "joined_df = covid_df.join(hospital_df,'City')\n",
    "\n",
    "patient_count = covid_df.groupBy('City').agg(F.count('*').alias('p_count'))\n",
    "#patient_count.show(10)\n",
    "\n",
    "merged_df= joined_df.join(patient_count, 'City')\n",
    "merged_df.show(10)"
   ]
  },
  {
   "cell_type": "code",
   "execution_count": null,
   "metadata": {},
   "outputs": [],
   "source": [
    "#Write this dataframe into the csv file for backup\n",
    "merged_df.write.csv('data/merged_data/joined.csv',header = True, mode= 'overwrite')"
   ]
  },
  {
   "cell_type": "code",
   "execution_count": null,
   "metadata": {},
   "outputs": [],
   "source": [
    "poor_patient = joined_df.groupBy('City').agg(\n",
    "    (F.sum('COVID_Beds_Available') - F.count('*')).alias('Poor_Patients')\n",
    ")\n",
    "\n",
    "poor_patient"
   ]
  },
  {
   "cell_type": "code",
   "execution_count": null,
   "metadata": {},
   "outputs": [],
   "source": [
    "covid_bed_citywise = merged_df.groupBy('City').agg(F.sum('COVID_Beds_Available').alias('Covid_beds_citywise'))\n",
    "new_df = covid_bed_citywise.join(merged_df, 'City', 'inner')\n",
    "new_df.show(10)"
   ]
  },
  {
   "cell_type": "code",
   "execution_count": null,
   "metadata": {},
   "outputs": [],
   "source": [
    "# Find the patient which didn't get the beds\n",
    "\n",
    "pune_df = new_df.filter(new_df.City == 'Pune')\n",
    "#pune_df.show(10)\n",
    "\n",
    "unique_df = pune_df.dropDuplicates(['Hospital_Name'])\n",
    "\n",
    "#unique_df.show()\n",
    "# distinct_hospital_name = pune_df.select('Hospital_Name').distinct()\n",
    "\n",
    "# pune_new_df = pune_df.join(distinct_hospital_name,'Hospital_Name')\n",
    "# pune_new_df.count()\n",
    "\n",
    "\n",
    "\n",
    "result_df = unique_df.withColumn( \"patient_no_beds\", F.col(\"Covid_beds_citywise\")- F.col(\"p_count\"))\n",
    "                                          \n",
    "result_df.show(10)\n"
   ]
  },
  {
   "cell_type": "code",
   "execution_count": null,
   "metadata": {},
   "outputs": [],
   "source": [
    "#Write this result dataframe into the csv file for backup\n",
    "result_df.write.csv('data/result_data/result.csv',header = True, mode= 'overwrite')"
   ]
  },
  {
   "cell_type": "code",
   "execution_count": null,
   "metadata": {},
   "outputs": [],
   "source": []
  },
  {
   "cell_type": "code",
   "execution_count": null,
   "metadata": {},
   "outputs": [],
   "source": []
  },
  {
   "cell_type": "code",
   "execution_count": null,
   "metadata": {},
   "outputs": [],
   "source": []
  },
  {
   "cell_type": "code",
   "execution_count": null,
   "metadata": {},
   "outputs": [],
   "source": []
  },
  {
   "cell_type": "code",
   "execution_count": null,
   "metadata": {},
   "outputs": [],
   "source": []
  },
  {
   "cell_type": "code",
   "execution_count": null,
   "metadata": {},
   "outputs": [],
   "source": []
  },
  {
   "cell_type": "code",
   "execution_count": null,
   "metadata": {},
   "outputs": [],
   "source": []
  }
 ],
 "metadata": {
  "kernelspec": {
   "display_name": "Python 3.9.12 ('venv': venv)",
   "language": "python",
   "name": "python3"
  },
  "language_info": {
   "codemirror_mode": {
    "name": "ipython",
    "version": 3
   },
   "file_extension": ".py",
   "mimetype": "text/x-python",
   "name": "python",
   "nbconvert_exporter": "python",
   "pygments_lexer": "ipython3",
   "version": "3.9.12"
  },
  "orig_nbformat": 4,
  "vscode": {
   "interpreter": {
    "hash": "ae9c95233d295bbb10e0f31e195de03f3adfdc08e7ce88cffb4f48d3b3f2ae15"
   }
  }
 },
 "nbformat": 4,
 "nbformat_minor": 2
}

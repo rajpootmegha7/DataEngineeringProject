{
 "cells": [
  {
   "cell_type": "code",
   "execution_count": 1,
   "metadata": {},
   "outputs": [],
   "source": [
    "#Create spark session\n",
    "from pyspark.sql import SparkSession\n"
   ]
  },
  {
   "cell_type": "code",
   "execution_count": 2,
   "metadata": {},
   "outputs": [
    {
     "name": "stderr",
     "output_type": "stream",
     "text": [
      "Setting default log level to \"WARN\".\n",
      "To adjust logging level use sc.setLogLevel(newLevel). For SparkR, use setLogLevel(newLevel).\n",
      "24/02/08 00:55:55 WARN NativeCodeLoader: Unable to load native-hadoop library for your platform... using builtin-java classes where applicable\n"
     ]
    },
    {
     "data": {
      "text/html": [
       "\n",
       "            <div>\n",
       "                <p><b>SparkSession - in-memory</b></p>\n",
       "                \n",
       "        <div>\n",
       "            <p><b>SparkContext</b></p>\n",
       "\n",
       "            <p><a href=\"http://192.168.1.6:4040\">Spark UI</a></p>\n",
       "\n",
       "            <dl>\n",
       "              <dt>Version</dt>\n",
       "                <dd><code>v3.5.0</code></dd>\n",
       "              <dt>Master</dt>\n",
       "                <dd><code>local[*]</code></dd>\n",
       "              <dt>AppName</dt>\n",
       "                <dd><code>CovidProject</code></dd>\n",
       "            </dl>\n",
       "        </div>\n",
       "        \n",
       "            </div>\n",
       "        "
      ],
      "text/plain": [
       "<pyspark.sql.session.SparkSession at 0x7fab1876df70>"
      ]
     },
     "execution_count": 2,
     "metadata": {},
     "output_type": "execute_result"
    }
   ],
   "source": [
    "spark = SparkSession.builder.appName(\"CovidProject\").getOrCreate()\n",
    "spark\n"
   ]
  },
  {
   "cell_type": "code",
   "execution_count": 5,
   "metadata": {},
   "outputs": [
    {
     "name": "stdout",
     "output_type": "stream",
     "text": [
      "+--------------------+--------------+--------------------+-----------------------+\n",
      "|       Hospital_Name|Beds_Available|COVID_Beds_Available|NonCOVID_Beds_Available|\n",
      "+--------------------+--------------+--------------------+-----------------------+\n",
      "|    Pune Hospital 87|            66|                  58|                      8|\n",
      "|    Pune Hospital 44|           186|                  79|                    107|\n",
      "|    Pune Hospital 84|           111|                  23|                     88|\n",
      "|    Pune Hospital 11|           124|                  35|                     89|\n",
      "|Hyderabad Hospita...|           199|                  30|                    169|\n",
      "|  Mumbai Hospital 62|           183|                 113|                     70|\n",
      "|  Mumbai Hospital 64|            65|                  28|                     37|\n",
      "|   Delhi Hospital 60|           140|                  33|                    107|\n",
      "|   Delhi Hospital 15|           105|                  72|                     33|\n",
      "|Bhubaneshwar Hosp...|           125|                  31|                     94|\n",
      "+--------------------+--------------+--------------------+-----------------------+\n",
      "only showing top 10 rows\n",
      "\n"
     ]
    }
   ],
   "source": [
    "#Read Parquet file in a dataframe\n",
    "hospital_df = spark.read.parquet('hospital_data/hospital_data.parquet')\n",
    "hospital_df.printSchema()\n",
    "hospital_df.show(10)"
   ]
  },
  {
   "cell_type": "code",
   "execution_count": 9,
   "metadata": {},
   "outputs": [
    {
     "ename": "SyntaxError",
     "evalue": "invalid syntax (2984300799.py, line 2)",
     "output_type": "error",
     "traceback": [
      "\u001b[0;36m  Cell \u001b[0;32mIn[9], line 2\u001b[0;36m\u001b[0m\n\u001b[0;31m    patient_df = spark.read.format(\"avro\").load(/Users/meghasinghrajpoot/Documents/GitHub/DataEngineeringProject/covid_patient_data.avro)\u001b[0m\n\u001b[0m                                                ^\u001b[0m\n\u001b[0;31mSyntaxError\u001b[0m\u001b[0;31m:\u001b[0m invalid syntax\n"
     ]
    }
   ],
   "source": [
    "#Read avro file in a dataframe\n",
    "patient_df = spark.read.format(\"avro\").load('/Users/meghasinghrajpoot/Documents/GitHub/DataEngineeringProject/covid_patient_data.avro')\n",
    "patient_df.printSchema()\n",
    "patient_df.show(10)"
   ]
  }
 ],
 "metadata": {
  "kernelspec": {
   "display_name": "Python 3.9.12 ('venv': venv)",
   "language": "python",
   "name": "python3"
  },
  "language_info": {
   "codemirror_mode": {
    "name": "ipython",
    "version": 3
   },
   "file_extension": ".py",
   "mimetype": "text/x-python",
   "name": "python",
   "nbconvert_exporter": "python",
   "pygments_lexer": "ipython3",
   "version": "3.9.12"
  },
  "orig_nbformat": 4,
  "vscode": {
   "interpreter": {
    "hash": "ae9c95233d295bbb10e0f31e195de03f3adfdc08e7ce88cffb4f48d3b3f2ae15"
   }
  }
 },
 "nbformat": 4,
 "nbformat_minor": 2
}
